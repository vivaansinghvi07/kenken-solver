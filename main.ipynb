{
 "cells": [
  {
   "cell_type": "code",
   "execution_count": 1,
   "metadata": {},
   "outputs": [],
   "source": [
    "import cv2\n",
    "import re\n",
    "import matplotlib.pyplot as plt\n",
    "import numpy as np\n",
    "from lib.w3schools import checkInside, Point\n",
    "from paddleocr import PaddleOCR\n",
    "from copy import copy, deepcopy\n",
    "\n",
    "OCR = PaddleOCR(use_angle_cls=True, lang='en', show_log=False, rotation=False)\n",
    "SYMBOLS = \"+:-xX—_\"\n",
    "REPLACEMENT_PAIRS = [\n",
    "    ('6', '9'),\n",
    "    ('2', '5')\n",
    "]\n",
    "\n",
    "class Ops:\n",
    "    SUBTRACTION = \"-\"\n",
    "    MULTIPLICATION = \"*\"\n",
    "    DIVISION = \"/\"\n",
    "    ADDITION = \"+\"\n",
    "    CONSTANT = \"_\"\n",
    "\n",
    "def imshow(img):\n",
    "    plt.axis('off')\n",
    "    plt.grid(False)\n",
    "    plt.imshow(cv2.cvtColor(img, cv2.COLOR_BGR2RGB))\n",
    "    plt.show()\n",
    "\n",
    "\"\"\" Fine tune these values for different quality screenshots. \"\"\"\n",
    "def getblur(game_size) -> tuple[int, int]:\n",
    "    match game_size:\n",
    "        case 3|4|5:\n",
    "            return (41, 41)\n",
    "        case 6|7|8:\n",
    "            return (37, 37)\n",
    "        case 9:\n",
    "            return (33, 33)"
   ]
  },
  {
   "attachments": {},
   "cell_type": "markdown",
   "metadata": {},
   "source": [
    "<hr>\n",
    "\n",
    "<i>Crop the image by its largest contour.</i> \n",
    "\n",
    "After this step, the image should have an even border."
   ]
  },
  {
   "cell_type": "code",
   "execution_count": 2,
   "metadata": {},
   "outputs": [
    {
     "data": {
      "image/png": "[encoded data removed]",
      "text/plain": [
       "<Figure size 640x480 with 1 Axes>"
      ]
     },
     "metadata": {},
     "output_type": "display_data"
    }
   ],
   "source": [
    "# Read the input image and perform cropping\n",
    "og_img = cv2.imread('kenken.png')\n",
    "gray = cv2.cvtColor(og_img, cv2.COLOR_BGR2GRAY)\n",
    "ret, thresh = cv2.threshold(gray,150,255,0)\n",
    "contours, hierarchy = cv2.findContours(thresh, cv2.RETR_TREE, cv2.CHAIN_APPROX_SIMPLE)\n",
    "\n",
    "# assumes the square is the most significant contour on the page\n",
    "outer_border = sorted(contours, key=cv2.contourArea)[-2]   \n",
    "x, y, w, h = cv2.boundingRect(outer_border)\n",
    "img = og_img[y:y+h, x:x+w]\n",
    "\n",
    "imshow(img)"
   ]
  },
  {
   "attachments": {},
   "cell_type": "markdown",
   "metadata": {},
   "source": [
    "<hr>\n",
    "\n",
    "<i>Determine the game size.</i>\n",
    "\n",
    "If the determined game size is not accurate, manually set it."
   ]
  },
  {
   "cell_type": "code",
   "execution_count": 3,
   "metadata": {},
   "outputs": [
    {
     "name": "stdout",
     "output_type": "stream",
     "text": [
      "The game size is 4.\n"
     ]
    }
   ],
   "source": [
    "# calculate game size from the contours\n",
    "gray = cv2.cvtColor(img, cv2.COLOR_BGR2GRAY)\n",
    "ret, thresh = cv2.threshold(gray,150,255,0)\n",
    "new_contours, hierarchy = cv2.findContours(thresh, cv2.RETR_TREE,cv2.CHAIN_APPROX_SIMPLE)\n",
    "newimg = cv2.drawContours(img.copy(), new_contours, -1, (0,255,0), 3)\n",
    "\n",
    "for contour in sorted(new_contours, key=cv2.contourArea, reverse=True):\n",
    "    x, y, w, h = cv2.boundingRect(contour)\n",
    "    ratio = len(img) // min(w, h)\n",
    "    if ratio == 1:\n",
    "        continue\n",
    "    else:\n",
    "        GAME_SIZE = ratio\n",
    "        break\n",
    "\n",
    "print(f\"The game size is {GAME_SIZE}.\")\n",
    "\n",
    "# GAME_SIZE =    # MNAUALLY SET IT HERE"
   ]
  },
  {
   "attachments": {},
   "cell_type": "markdown",
   "metadata": {},
   "source": [
    "<hr>\n",
    "\n",
    "<i>Find all the blocks in the image.</i>\n",
    "\n",
    "After this step, the outputted image should have green outlines wherever the major blocks are."
   ]
  },
  {
   "cell_type": "code",
   "execution_count": 4,
   "metadata": {},
   "outputs": [
    {
     "data": {
      "image/png": "[encoded data removed]",
      "text/plain": [
       "<Figure size 640x480 with 1 Axes>"
      ]
     },
     "metadata": {},
     "output_type": "display_data"
    }
   ],
   "source": [
    "gray = cv2.cvtColor(img, cv2.COLOR_BGR2GRAY)\n",
    "blur = cv2.GaussianBlur(gray, getblur(GAME_SIZE), 0)\n",
    "ret, thresh = cv2.threshold(blur,150,255,0)\n",
    "contours, hierarchy = cv2.findContours(thresh, cv2.RETR_TREE, cv2.CHAIN_APPROX_SIMPLE)\n",
    "\n",
    "# get dark-squared contours\n",
    "filtered = []; shapes = []\n",
    "for contour in contours:\n",
    "    epsilon = 0.02*cv2.arcLength(contour, True)\n",
    "    approx = cv2.approxPolyDP(contour, epsilon, True)\n",
    "    if len(approx) >= 4:\n",
    "        x, y, w, h = cv2.boundingRect(contour)\n",
    "        if min(w, h) > len(img) / 10:       # assures that no numbered contours are interpreted\n",
    "            filtered.append(contour)\n",
    "            shapes.append(approx)\n",
    "\n",
    "# draw the contour on the input image\n",
    "newimg = cv2.drawContours(img.copy(), shapes, -1, (0,255,0), 3)\n",
    "\n",
    "# display the image with drawn contours and approximate contours\n",
    "imshow(newimg)"
   ]
  },
  {
   "attachments": {},
   "cell_type": "markdown",
   "metadata": {},
   "source": [
    "<hr>\n",
    "\n",
    "<i>Determine the operations within each square, preparing it for solving.</i>\n",
    "\n",
    "If something is going wrong, check the printed result and assure it is consistent with the image."
   ]
  },
  {
   "cell_type": "code",
   "execution_count": 5,
   "metadata": {},
   "outputs": [
    {
     "name": "stdout",
     "output_type": "stream",
     "text": [
      "{'result': 4, 'operand': '+', 'squares': [(2.0, 3.0), (3.0, 3.0)]}\n",
      "{'result': 2, 'operand': '/', 'squares': [(0.0, 3.0), (1.0, 3.0)]}\n",
      "{'result': 4, 'operand': '_', 'squares': [(1.0, 2.0)]}\n",
      "{'result': 1, 'operand': '-', 'squares': [(3.0, 1.0), (3.0, 2.0)]}\n",
      "{'result': 8, 'operand': '*', 'squares': [(1.0, 1.0), (2.0, 1.0), (2.0, 2.0)]}\n",
      "{'result': 2, 'operand': '-', 'squares': [(0.0, 1.0), (0.0, 2.0)]}\n",
      "{'result': 3, 'operand': '-', 'squares': [(2.0, 0.0), (3.0, 0.0)]}\n",
      "{'result': 1, 'operand': '-', 'squares': [(0.0, 0.0), (1.0, 0.0)]}\n"
     ]
    }
   ],
   "source": [
    "relations = []\n",
    "box_size = len(img) / GAME_SIZE \n",
    "\n",
    "def process(text: str):\n",
    "    text = text.replace(' ', '')    # remove shapes\n",
    "    text = text.lower()             # standardize style\n",
    "    text = text.strip()             # remove any whitespace\n",
    "\n",
    "    if [char for char in text if char not in SYMBOLS] == []:\n",
    "        return None\n",
    "\n",
    "    # undo 180-degree interpreted rotation by the OCR\n",
    "    if text[0] in SYMBOLS:\n",
    "        text = [*reversed(text)]\n",
    "        for replacement in REPLACEMENT_PAIRS:\n",
    "            for i, char in enumerate(text):\n",
    "                if char in replacement:\n",
    "                    text[i] = r1 if char != (r1:=(replacement[1])) else replacement[0]\n",
    "        return \"\".join(text)\n",
    "    \n",
    "    return text\n",
    "\n",
    "for approx in shapes:\n",
    "    approx = list(map(lambda arr: list(map(lambda x: round(x/box_size), arr[0])), approx))\n",
    "    points = list(map(lambda x: Point(*x), approx))\n",
    "    x, y, w, h = cv2.boundingRect(np.array(approx))\n",
    "    rel = []\n",
    "    for xx in np.arange(start=x+0.5, stop=x+w+0.5, step=1):\n",
    "        for yy in np.arange(start=y+0.5, stop=y+h+0.5, step=1):\n",
    "            if checkInside(points, len(points), Point(xx, yy)):\n",
    "                rel.append(Point(xx-0.5, yy-0.5))\n",
    "    relations.append(rel)\n",
    "\n",
    "operations = []\n",
    "for i in range(len(relations)):\n",
    "    rel = relations[i]\n",
    "    operation = {\n",
    "        \"result\": None,\n",
    "        \"operand\": None,\n",
    "        \"squares\": []\n",
    "    }\n",
    "    for point in rel:      # determine which point in the relation has the operation indicator\n",
    "        y_lower, x_lower = max(int((point.y-0.1)*box_size), 0), max(int((point.x-0.1)*box_size), 0)\n",
    "        y_upper, x_upper = int(y_lower+box_size*1.2), int(x_lower+box_size*1.2)\n",
    "        cropped_img = img[y_lower:y_upper, x_lower:x_upper]\n",
    "        if (text:=OCR.ocr(cropped_img, cls=True)) != [[]]:\n",
    "            text = process(text[0][0][1][0])     # get prediction and process it\n",
    "            if text == None:\n",
    "                continue\n",
    "            \"\"\" By this step, <text> should be a string like this: \"17+\", \"14x\", \"3:\", etc. \"\"\"\n",
    "            if \"+\" in text:\n",
    "                operation[\"operand\"] = Ops.ADDITION\n",
    "                operation[\"result\"] = int(text.replace(\"+\", \"\"))\n",
    "            elif \":\" in text:\n",
    "                operation[\"operand\"] = Ops.DIVISION\n",
    "                operation[\"result\"] = int(text.replace(\":\", \"\"))\n",
    "            elif \"x\" in text:\n",
    "                operation[\"operand\"] = Ops.MULTIPLICATION\n",
    "                operation[\"result\"] = int(text.replace(\"x\", \"\"))\n",
    "            elif any([s in text for s in [\"-\", \"—\", \"_\"]]):\n",
    "                operation[\"operand\"] = Ops.SUBTRACTION\n",
    "                operation[\"result\"] = int(re.sub(r\"[\\_\\-\\—]+\", \"\", text))\n",
    "            else:   # likely fully empty\n",
    "                operation[\"result\"] = int(text)\n",
    "                match len(rel):\n",
    "                    case 2: \n",
    "                        operation[\"operand\"] = Ops.SUBTRACTION\n",
    "                    case 1:\n",
    "                        operation[\"operand\"] = Ops.CONSTANT\n",
    "                    case _:\n",
    "                        raise Exception(\"Invalid pattern detected.\")\n",
    "            operation[\"squares\"] = copy(rel)\n",
    "            break\n",
    "    if operation[\"operand\"] != None:\n",
    "        operations.append(operation) \n",
    "\n",
    "print(*operations, sep=\"\\n\")"
   ]
  },
  {
   "attachments": {},
   "cell_type": "markdown",
   "metadata": {},
   "source": [
    "<hr>\n",
    "\n",
    "<i>Solve the puzzle.</i>"
   ]
  },
  {
   "cell_type": "code",
   "execution_count": 17,
   "metadata": {},
   "outputs": [
    {
     "name": "stdout",
     "output_type": "stream",
     "text": [
      "[[2, 3, 1, 4], [3, 1, 4, 2], [1, 4, 2, 3], [4, 2, 3, 1]]\n"
     ]
    }
   ],
   "source": [
    "# board manipulations and checks\n",
    "def illegal_col(board, col_num):\n",
    "    return len(a:=([v for i in range(GAME_SIZE) if (v:=board[i][col_num]) != 0])) != len(set(a))\n",
    "def illegal_row(board, row_num):\n",
    "    return len((a:=[v for v in board[row_num] if v != 0])) != len(set(a))\n",
    "def mod_board(board, num, val):\n",
    "    board[num//GAME_SIZE][num%GAME_SIZE] = val\n",
    "def get_board(board, num):\n",
    "    return board[num//GAME_SIZE][num%GAME_SIZE]\n",
    "\n",
    "def get_possible_values(operation):\n",
    "    result = operation[\"result\"]\n",
    "    match operation[\"operand\"]:\n",
    "        case Ops.SUBTRACTION:\n",
    "            output = list()\n",
    "            for i in range(result+1, GAME_SIZE+1):\n",
    "                output.extend([i, i-result])\n",
    "            return set(output)\n",
    "        case Ops.DIVISION:\n",
    "            output = list()\n",
    "            for i in range(1, GAME_SIZE // result + 1):\n",
    "                if i*result <= GAME_SIZE:\n",
    "                    output.extend([i, i*result])\n",
    "            return set(output)\n",
    "        case Ops.MULTIPLICATION:\n",
    "            return {i for i in range(1, GAME_SIZE+1) if result % i == 0}\n",
    "        case Ops.ADDITION:\n",
    "            return {*range(1, min(GAME_SIZE, result-len(operation[\"squares\"])+1)+1)}\n",
    "        \n",
    "def check_possible(board, iter, value):\n",
    "    global rels\n",
    "    try:\n",
    "        mod_board(board, iter, value)\n",
    "        if illegal_col(board, iter%GAME_SIZE):\n",
    "            return False\n",
    "        elif illegal_row(board, iter//GAME_SIZE):\n",
    "            return False\n",
    "        operation = get_board(rels, iter)\n",
    "        result = operation[\"result\"]\n",
    "        match operation[\"operand\"]:\n",
    "            case Ops.SUBTRACTION:\n",
    "                iters = [point.get_iter(GAME_SIZE) for point in operation[\"squares\"]]\n",
    "                v1, v2 = [get_board(board, iter) for iter in iters]\n",
    "                if v1 == 0 or v2 == 0:\n",
    "                    return True\n",
    "                return abs(v2 - v1) == result\n",
    "            case Ops.ADDITION:\n",
    "                iters = [point.get_iter(GAME_SIZE) for point in operation[\"squares\"]]\n",
    "                values = [get_board(board, iter) for iter in iters]\n",
    "                if any([val == 0 for val in values]):\n",
    "                    return sum(values) < result   # not possible if sum is already greater than or equal to\n",
    "                return sum(values) == result\n",
    "            case Ops.DIVISION:\n",
    "                iters = [point.get_iter(GAME_SIZE) for point in operation[\"squares\"]]\n",
    "                v1, v2 = [get_board(board, iter) for iter in iters]\n",
    "                if v1 == 0 or v2 == 0:\n",
    "                    return True\n",
    "                return round(max(v1, v2) / min(v1, v2), 2) == result\n",
    "            case Ops.MULTIPLICATION:\n",
    "                iters = [point.get_iter(GAME_SIZE) for point in operation[\"squares\"]]\n",
    "                values = [get_board(board, iter) for iter in iters]\n",
    "                if any([val == 0 for val in values]):\n",
    "                    return np.prod([val for val in values if val != 0]) <= result    \n",
    "                return np.prod(values) == result\n",
    "    finally:\n",
    "        mod_board(board, iter, 0)\n",
    "\n",
    "# make blank arrays for everything\n",
    "board = [[0 for _ in range(GAME_SIZE)] for _ in range(GAME_SIZE)]\n",
    "possible_values = deepcopy(board)\n",
    "rels = deepcopy(board)\n",
    "\n",
    "# fill arrays\n",
    "for op in operations:\n",
    "    if op[\"operand\"] == Ops.CONSTANT:\n",
    "        point = op[\"squares\"][0]\n",
    "        mod_board(board, point.get_iter(GAME_SIZE), op[\"result\"])\n",
    "        continue\n",
    "    for point in op[\"squares\"]:\n",
    "        iter = point.get_iter(GAME_SIZE)\n",
    "        mod_board(possible_values, iter, {*range(1, GAME_SIZE+1)}) #get_possible_values(op))\n",
    "        mod_board(rels, iter, deepcopy(op))\n",
    "\n",
    "def solve(board, iter):\n",
    "    if iter >= GAME_SIZE**2:\n",
    "        raise Exception(\"Catch me! I'm done!\")\n",
    "    if get_board(board, iter) != 0:\n",
    "        solve(board, iter+1); return\n",
    "    for value in range(1, GAME_SIZE+1):\n",
    "        if value not in get_board(possible_values, iter):\n",
    "            continue\n",
    "        elif check_possible(board, iter, value):\n",
    "            mod_board(board, iter, value)\n",
    "            solve(board, iter+1)\n",
    "    mod_board(board, iter, 0)       # reset if unsuccessful\n",
    "\n",
    "try:\n",
    "    solve(board, 0)\n",
    "\n",
    "    # if made it through this point its not solved\n",
    "    solved = False\n",
    "    print(\"Coudln't solve board.\")\n",
    "except:\n",
    "    print(board)\n"
   ]
  },
  {
   "cell_type": "code",
   "execution_count": null,
   "metadata": {},
   "outputs": [],
   "source": []
  }
 ],
 "metadata": {
  "kernelspec": {
   "display_name": ".venv",
   "language": "python",
   "name": "python3"
  },
  "language_info": {
   "codemirror_mode": {
    "name": "ipython",
    "version": 3
   },
   "file_extension": ".py",
   "mimetype": "text/x-python",
   "name": "python",
   "nbconvert_exporter": "python",
   "pygments_lexer": "ipython3",
   "version": "3.10.11"
  },
  "orig_nbformat": 4,
  "vscode": {
   "interpreter": {
    "hash": "84f9860f8f3d807df69a8c3d9b026a13e6dd8a1bd1c25a7c5020614b23dd020d"
   }
  }
 },
 "nbformat": 4,
 "nbformat_minor": 2
}
